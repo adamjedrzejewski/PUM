{
  "cells": [
    {
      "cell_type": "markdown",
      "metadata": {
        "id": "-MzYM603DtwP"
      },
      "source": [
        "# Podstawy Python 3.10. Zmienne, listy i słowniki\n",
        "## 🇬🇧 Introduction to Python 3.10. Variables, lists and dictionaries\n",
        "#### 👨‍🏫 M.Sc. Psych., M.Sc. IT, Wojciech Oronowicz-Jaśkowiak\n",
        "#### 🤖 https://github.com/aipogodzinach"
      ]
    },
    {
      "cell_type": "markdown",
      "metadata": {
        "id": "H9k7hmWzDtwR"
      },
      "source": [
        "### 1. Operacje na liczbach\n",
        "#### 🇬🇧 Basic math in Python\n",
        "#### Poniższe przykłady przedstawiają proste operacje na liczbach, które możemy przeprowadzić w Python."
      ]
    },
    {
      "cell_type": "code",
      "source": [
        ""
      ],
      "metadata": {
        "id": "l-kJRo0GD6c4"
      },
      "execution_count": null,
      "outputs": []
    },
    {
      "cell_type": "code",
      "execution_count": 1,
      "metadata": {
        "colab": {
          "base_uri": "https://localhost:8080/"
        },
        "id": "vBBHHPo-DtwR",
        "outputId": "218cfc54-f836-4623-ea3a-e08a97ceacf9"
      },
      "outputs": [
        {
          "output_type": "stream",
          "name": "stdout",
          "text": [
            "2\n",
            "3\n",
            "0.5\n",
            "16\n"
          ]
        }
      ],
      "source": [
        "print(1 + 1) \n",
        "# dodawanie\n",
        "print(1*3) \n",
        "# mnożenie\n",
        "print(1/2) \n",
        "# dzielenie\n",
        "print(2 ** 4) \n",
        "# potęga"
      ]
    },
    {
      "cell_type": "code",
      "execution_count": 2,
      "metadata": {
        "colab": {
          "base_uri": "https://localhost:8080/"
        },
        "id": "8btDVZQEDtwS",
        "outputId": "70580074-41b9-4005-e648-4cb4f0334ae9"
      },
      "outputs": [
        {
          "output_type": "stream",
          "name": "stdout",
          "text": [
            "0\n",
            "1\n"
          ]
        }
      ],
      "source": [
        "print(4 % 2)\n",
        "print(7 % 2)\n",
        "# do sprawdzenia czy liczba jest parzysta czy nieparzysta (w R jest %%)"
      ]
    },
    {
      "cell_type": "code",
      "execution_count": 3,
      "metadata": {
        "colab": {
          "base_uri": "https://localhost:8080/"
        },
        "id": "HDjtvDMzDtwS",
        "outputId": "cb3fd813-39b9-48bd-e7d2-5808b1c9ae2c"
      },
      "outputs": [
        {
          "output_type": "execute_result",
          "data": {
            "text/plain": [
              "50"
            ]
          },
          "metadata": {},
          "execution_count": 3
        }
      ],
      "source": [
        "(2 + 3) * (5 + 5)\n",
        "# operacje na liczbach możemy, co oczywiste, łączyć\n",
        "# w tym miejscu nie dodaję print, ponieważ jupyter wyrzuci tylko jeden wynik, nie ma zatem takiej potrzeby"
      ]
    },
    {
      "cell_type": "markdown",
      "metadata": {
        "id": "5lzur0-TDtwT"
      },
      "source": [
        "### 2. Formatowanie i wyświetlanie tekstu\n",
        "#### 🇬🇧 Strings\n",
        "#### Poniższe przykłady przedstawiają w jaki sposób możemy wyświetlać tekst w Python oraz w jaki sposób wykorzystać zmienne do wprowadzenia tekstu."
      ]
    },
    {
      "cell_type": "code",
      "execution_count": 4,
      "metadata": {
        "colab": {
          "base_uri": "https://localhost:8080/"
        },
        "id": "ym6NSMy7DtwT",
        "outputId": "1e2d1f04-5096-43c9-a691-837495acd93f"
      },
      "outputs": [
        {
          "output_type": "stream",
          "name": "stdout",
          "text": [
            "Wyświetlam tekst w Python\n"
          ]
        }
      ],
      "source": [
        "print(\"Wyświetlam tekst w Python\")\n",
        "# za pomocą print możemy wyświetlić dowolny tekst"
      ]
    },
    {
      "cell_type": "code",
      "execution_count": 5,
      "metadata": {
        "colab": {
          "base_uri": "https://localhost:8080/"
        },
        "id": "Y2upEGn2DtwT",
        "outputId": "0747d4ad-718b-46e5-83b1-55454e4b8eb9"
      },
      "outputs": [
        {
          "output_type": "stream",
          "name": "stdout",
          "text": [
            "Python jest językiem programowania\n"
          ]
        }
      ],
      "source": [
        "print(\"Python jest {k} {z}\".format(k=\"językiem\", z=\"programowania\"))\n",
        "# do wyświetlenia tekstu możemy również wykorzystać .format"
      ]
    },
    {
      "cell_type": "code",
      "execution_count": 6,
      "metadata": {
        "colab": {
          "base_uri": "https://localhost:8080/"
        },
        "id": "KtHR5QBcDtwT",
        "outputId": "5b3cd6f0-56a6-441e-b961-e30d0ac64b0c"
      },
      "outputs": [
        {
          "output_type": "stream",
          "name": "stdout",
          "text": [
            "Średnia wieku wynosi 24.2 lata\n"
          ]
        }
      ],
      "source": [
        "zmienna = \"24.2 lata\"\n",
        "# w pierwszej kolejności zapisujemy zmienną\n",
        "print(\"Średnia wieku wynosi {}\".format(zmienna))\n",
        "# dalej wykorzystujemy ją do wyświetlenia tekstu"
      ]
    },
    {
      "cell_type": "code",
      "execution_count": 7,
      "metadata": {
        "id": "5mrjhTHBDtwU"
      },
      "outputs": [],
      "source": [
        "nazwisko = \"Kowalski\"\n",
        "wiek = \"%s ma 20 lat\"\n",
        "# niekiedy użyteczne są dla nas placeholders"
      ]
    },
    {
      "cell_type": "code",
      "execution_count": 8,
      "metadata": {
        "colab": {
          "base_uri": "https://localhost:8080/",
          "height": 35
        },
        "id": "HUFbG__RDtwU",
        "outputId": "86b53788-afbf-4ba2-f36a-e14a43b9e146"
      },
      "outputs": [
        {
          "output_type": "execute_result",
          "data": {
            "application/vnd.google.colaboratory.intrinsic+json": {
              "type": "string"
            },
            "text/plain": [
              "'Kowalski ma 20 lat'"
            ]
          },
          "metadata": {},
          "execution_count": 8
        }
      ],
      "source": [
        "wiek%nazwisko"
      ]
    },
    {
      "cell_type": "code",
      "execution_count": 9,
      "metadata": {
        "colab": {
          "base_uri": "https://localhost:8080/",
          "height": 35
        },
        "id": "YxhUCFwSDtwU",
        "outputId": "c1cd853c-8461-432f-fbd5-6410925f35d2"
      },
      "outputs": [
        {
          "output_type": "execute_result",
          "data": {
            "application/vnd.google.colaboratory.intrinsic+json": {
              "type": "string"
            },
            "text/plain": [
              "'Nowak ma 20 lat'"
            ]
          },
          "metadata": {},
          "execution_count": 9
        }
      ],
      "source": [
        "wiek%(\"Nowak\")"
      ]
    },
    {
      "cell_type": "code",
      "execution_count": 10,
      "metadata": {
        "colab": {
          "base_uri": "https://localhost:8080/"
        },
        "id": "WVIw0d_eDtwU",
        "outputId": "f0c46dff-7703-4d3a-fb8d-064319551e06"
      },
      "outputs": [
        {
          "output_type": "stream",
          "name": "stdout",
          "text": [
            "To jest tekst\n",
            "To jest tekst\n"
          ]
        }
      ],
      "source": [
        "print('To jest tekst')\n",
        "print(\"To jest tekst\")\n",
        "# to nie ma znaczenia - może być '' lub \"\""
      ]
    },
    {
      "cell_type": "code",
      "execution_count": 11,
      "metadata": {
        "id": "ytmIQ2_JDtwV"
      },
      "outputs": [],
      "source": [
        "z = \"Zmienna tekstowa\""
      ]
    },
    {
      "cell_type": "code",
      "execution_count": 12,
      "metadata": {
        "colab": {
          "base_uri": "https://localhost:8080/",
          "height": 35
        },
        "id": "my-4vNWQDtwV",
        "outputId": "97814955-3eb2-4d99-8330-66eff2fb9256"
      },
      "outputs": [
        {
          "output_type": "execute_result",
          "data": {
            "application/vnd.google.colaboratory.intrinsic+json": {
              "type": "string"
            },
            "text/plain": [
              "'Zmienna tekstowa'"
            ]
          },
          "metadata": {},
          "execution_count": 12
        }
      ],
      "source": [
        "z\n",
        "# jupyter notebook pokaże wynik, ale to nie \"prawdziwy print\""
      ]
    },
    {
      "cell_type": "code",
      "execution_count": 13,
      "metadata": {
        "colab": {
          "base_uri": "https://localhost:8080/"
        },
        "id": "reUJS6kfDtwV",
        "outputId": "e0389016-a302-49ed-ddec-691f3cc54d11"
      },
      "outputs": [
        {
          "output_type": "stream",
          "name": "stdout",
          "text": [
            "Zmienna tekstowa\n"
          ]
        }
      ],
      "source": [
        "print(z)"
      ]
    },
    {
      "cell_type": "code",
      "execution_count": 14,
      "metadata": {
        "colab": {
          "base_uri": "https://localhost:8080/"
        },
        "id": "9UvLeq3rDtwW",
        "outputId": "ea74082c-c3d0-4790-b2fb-bdee1b44111d"
      },
      "outputs": [
        {
          "output_type": "stream",
          "name": "stdout",
          "text": [
            "he\n",
            "h\n",
            "lo\n"
          ]
        }
      ],
      "source": [
        "zmienna = \"hello\"\n",
        "\n",
        "print(zmienna[0:2]) # printuje \"he\" bo dwa pierwsze elementy\n",
        "print(zmienna[0]) # printuje \"h\" bo to druga cyfra z tej zmiennej\n",
        "print(zmienna[3:]) # printuje \"lo\" z uwagi na to że teraz chcemy dane licząc od czwartej litery"
      ]
    },
    {
      "cell_type": "code",
      "execution_count": 15,
      "metadata": {
        "id": "5RNdPqlMDtwW"
      },
      "outputs": [],
      "source": [
        "zmienna = \"Jeden stół\""
      ]
    },
    {
      "cell_type": "code",
      "execution_count": 16,
      "metadata": {
        "colab": {
          "base_uri": "https://localhost:8080/"
        },
        "id": "k8rlJdiVDtwW",
        "outputId": "45551404-2b68-43ed-9a7f-5aba3486c3a3"
      },
      "outputs": [
        {
          "output_type": "execute_result",
          "data": {
            "text/plain": [
              "['Jeden', 'stół']"
            ]
          },
          "metadata": {},
          "execution_count": 16
        }
      ],
      "source": [
        "zmienna.split()\n",
        "# możemy w ten sposób rozdzielić słowa w danej zmiennej i potraktować je rozłącznie"
      ]
    },
    {
      "cell_type": "markdown",
      "metadata": {
        "id": "7F2oHsbhDtwW"
      },
      "source": [
        "### 3. Listy\n",
        "#### 🇬🇧 Lists\n",
        "#### Poniższe przykłady przedstawiają w jaki sposób możemy wyświetlać tekst w Python oraz w jaki sposób wykorzystać zmienne do wprowadzenia tekstu."
      ]
    },
    {
      "cell_type": "code",
      "execution_count": null,
      "metadata": {
        "id": "P5lrw1wsDtwX"
      },
      "outputs": [],
      "source": [
        "lista = [1, 2, 6, 4]\n",
        "# w tym miejscu tworzymy prostą listę składającą się z czterech elementów\n",
        "lista"
      ]
    },
    {
      "cell_type": "code",
      "execution_count": null,
      "metadata": {
        "id": "qUj7opJWDtwX"
      },
      "outputs": [],
      "source": [
        "lista[1]\n",
        "# w ten sposób wybieramy drugi element ze zbioru (ponieważ liczenie zaczyna się od 0)"
      ]
    },
    {
      "cell_type": "code",
      "execution_count": null,
      "metadata": {
        "id": "Wfm1-biuDtwX"
      },
      "outputs": [],
      "source": [
        "lista.pop(0) \n",
        "# jeżeli chcemy usunąć wybrany element zbioru wykorzystujemy .pop oraz wybieramy położenie elementu"
      ]
    },
    {
      "cell_type": "code",
      "execution_count": null,
      "metadata": {
        "id": "9h4YkSWtDtwX"
      },
      "outputs": [],
      "source": [
        "lista\n",
        "# wyświetlając teraz listę widzimy, że nie zawiera pierwszego elementu"
      ]
    },
    {
      "cell_type": "code",
      "execution_count": null,
      "metadata": {
        "id": "0FXYb1W6DtwY"
      },
      "outputs": [],
      "source": [
        "lista.sort()\n",
        "# tego polecenia używamy, jeżeli chcemy posortować elementy w liście\n",
        "lista"
      ]
    },
    {
      "cell_type": "code",
      "execution_count": null,
      "metadata": {
        "id": "ZeftpaaaDtwY"
      },
      "outputs": [],
      "source": [
        "max(lista)\n",
        "# wyświetlamy największy element tego zbioru"
      ]
    },
    {
      "cell_type": "code",
      "execution_count": null,
      "metadata": {
        "id": "ywBE1xHSDtwY"
      },
      "outputs": [],
      "source": [
        "lista.clear()\n",
        "# jeżeli chcemy wyczyścić listę używamy clear"
      ]
    },
    {
      "cell_type": "code",
      "execution_count": null,
      "metadata": {
        "id": "m-bRwqO1DtwY"
      },
      "outputs": [],
      "source": [
        "lista2 = [\"kot\", \"dwa koty\", \"trzy koty\", \"cztery koty\"]"
      ]
    },
    {
      "cell_type": "code",
      "execution_count": null,
      "metadata": {
        "id": "5-df8Y9IDtwY"
      },
      "outputs": [],
      "source": [
        "lista2"
      ]
    },
    {
      "cell_type": "code",
      "execution_count": null,
      "metadata": {
        "id": "nKezvi3HDtwY"
      },
      "outputs": [],
      "source": [
        "lista2.append(\"pięć kotów\")\n",
        "# możemy dodać kolejny element do naszej listy przez append"
      ]
    },
    {
      "cell_type": "code",
      "execution_count": null,
      "metadata": {
        "id": "yt5LNCarDtwZ"
      },
      "outputs": [],
      "source": [
        "lista2"
      ]
    },
    {
      "cell_type": "code",
      "execution_count": null,
      "metadata": {
        "id": "z64zX5q3DtwZ"
      },
      "outputs": [],
      "source": [
        "del lista2[2]\n",
        "# lista2.pop(2)"
      ]
    },
    {
      "cell_type": "code",
      "execution_count": null,
      "metadata": {
        "id": "G2RzSSxODtwZ"
      },
      "outputs": [],
      "source": [
        "lista2"
      ]
    },
    {
      "cell_type": "code",
      "execution_count": null,
      "metadata": {
        "id": "Gey_4dJ1DtwZ"
      },
      "outputs": [],
      "source": [
        "lista = [1,2,[3,4]] \n",
        "# tworzenie listy wewnątrz listy (w naszym przypadku - elementy 3 i 4)\n",
        "lista"
      ]
    },
    {
      "cell_type": "code",
      "execution_count": null,
      "metadata": {
        "id": "kdonrBtFDtwZ"
      },
      "outputs": [],
      "source": [
        "lista[2]\n",
        "# jeżeli wybieramy trzeci z kolejnych elementów w liście, to będzie to nasza osadzona wewnątrz lista"
      ]
    },
    {
      "cell_type": "code",
      "execution_count": null,
      "metadata": {
        "id": "3EEVutxIDtwZ"
      },
      "outputs": [],
      "source": [
        "lista[2][1]\n",
        "# a jak wybrać drugi z kolei element w środku tej listy?"
      ]
    },
    {
      "cell_type": "code",
      "execution_count": null,
      "metadata": {
        "id": "3Jy1QK3GDtwa"
      },
      "outputs": [],
      "source": [
        "lista = [1,2,3,[4,5,['tekst']]]\n",
        "# podobne zagadnienie, tylko z inną listą - zastanówmy się jak wybrać \"tekst\""
      ]
    },
    {
      "cell_type": "code",
      "execution_count": null,
      "metadata": {
        "id": "iPdZOqh2Dtwa"
      },
      "outputs": [],
      "source": [
        "lista[3] \n",
        "# \"wyciągnie trzeci\" element z tej listy"
      ]
    },
    {
      "cell_type": "code",
      "execution_count": null,
      "metadata": {
        "id": "DAz3XC3iDtwa"
      },
      "outputs": [],
      "source": [
        "lista[3][2]"
      ]
    },
    {
      "cell_type": "code",
      "execution_count": null,
      "metadata": {
        "id": "5OfUm8QjDtwa"
      },
      "outputs": [],
      "source": [
        "lista[3][2][0]"
      ]
    },
    {
      "cell_type": "markdown",
      "metadata": {
        "id": "m_rb5iRSDtwa"
      },
      "source": [
        "### 4. Słowniki\n",
        "#### 🇬🇧 Dictionaries\n",
        "#### Niekiedy przydają się nam dictionaries (słowniki). Poniższe przykłady przedstawiają w jaki sposób tworzy się i zarządza się słownikami."
      ]
    },
    {
      "cell_type": "code",
      "execution_count": null,
      "metadata": {
        "id": "wWuIOxGeDtwa"
      },
      "outputs": [],
      "source": [
        "dane = {\"Temperatura\":23, \"Opady\":0.1, \"Nasłonecznienie\":3} \n",
        "# {'key1':'item1','key2':'item2'}\n",
        "# w tym miejscu tworzymy nowy słownik o nazwie \"dane\", który zawiera trzy klucze z wartościami\n",
        "dane"
      ]
    },
    {
      "cell_type": "code",
      "execution_count": null,
      "metadata": {
        "id": "NdEjz3NtDtwa"
      },
      "outputs": [],
      "source": [
        "dane2 = ['hi',1,3] \n",
        "# podobnie jak w R listy mogą przechowywać różne typy danych\n",
        "dane2"
      ]
    },
    {
      "cell_type": "code",
      "execution_count": null,
      "metadata": {
        "id": "J3qcbldBDtwb"
      },
      "outputs": [],
      "source": [
        "dane[\"Temperatura\"]\n",
        "# wyświetlimy dzięki temu wartość temperatury przyporządkowaną do klucza"
      ]
    },
    {
      "cell_type": "code",
      "execution_count": null,
      "metadata": {
        "id": "4NWxD2JsDtwb"
      },
      "outputs": [],
      "source": [
        "dane[\"Temperatura\"] = 24\n",
        "# a jak zmienić przyporządkowaną wartość?\n",
        "dane"
      ]
    },
    {
      "cell_type": "code",
      "execution_count": null,
      "metadata": {
        "id": "HnkDPa51Dtwb"
      },
      "outputs": [],
      "source": [
        "del dane[\"Temperatura\"]\n",
        "# możemy oczywiście usunąć klucze\n",
        "dane"
      ]
    },
    {
      "cell_type": "code",
      "execution_count": null,
      "metadata": {
        "id": "KdmwM52bDtwb"
      },
      "outputs": [],
      "source": [
        "dane = {\"Temperatura\":[1,2,3], \"Opady\":0.1, \"Nasłonecznienie\":3}\n",
        "# możemy również używać list jako wartości"
      ]
    },
    {
      "cell_type": "code",
      "execution_count": null,
      "metadata": {
        "id": "jvKOgixEDtwb"
      },
      "outputs": [],
      "source": [
        "dane['Temperatura']"
      ]
    },
    {
      "cell_type": "code",
      "execution_count": null,
      "metadata": {
        "id": "bQYHNr3nDtwb"
      },
      "outputs": [],
      "source": [
        "d = {\"klucz\":['a', 'b', 'c']}\n",
        "# stwórzmy teraz prosty słownik zawierający jeden klucz z listą trzech wartości, nazwijmy go d"
      ]
    },
    {
      "cell_type": "code",
      "execution_count": null,
      "metadata": {
        "id": "zz7I5u7MDtwc"
      },
      "outputs": [],
      "source": [
        "d['klucz'][0]\n",
        "# możemy w ten sposób wyświetlić pierwszy element listy przy tym kluczu"
      ]
    },
    {
      "cell_type": "code",
      "execution_count": null,
      "metadata": {
        "id": "dNd_pVaeDtwc"
      },
      "outputs": [],
      "source": [
        "d['klucz'][2].upper()\n",
        "# możemy również przeprowadzić podstawowe operacje polegające np. na zmiane małej/dużej litery"
      ]
    },
    {
      "cell_type": "code",
      "execution_count": null,
      "metadata": {
        "id": "cJwdeJ8gDtwc"
      },
      "outputs": [],
      "source": [
        "dane.keys()\n",
        "# wyświetlamy klucze ze słownika"
      ]
    },
    {
      "cell_type": "code",
      "execution_count": null,
      "metadata": {
        "id": "kskJcHxdDtwc"
      },
      "outputs": [],
      "source": [
        "dane.items()"
      ]
    },
    {
      "cell_type": "code",
      "execution_count": null,
      "metadata": {
        "id": "6pjsB_GDDtwc"
      },
      "outputs": [],
      "source": [
        "dane.values()"
      ]
    },
    {
      "cell_type": "markdown",
      "metadata": {
        "id": "7jiorMFmDtwc"
      },
      "source": [
        "### 5. Tuple\n",
        "#### 🇬🇧 Tuples"
      ]
    },
    {
      "cell_type": "code",
      "execution_count": null,
      "metadata": {
        "id": "Ng1uw_kyDtwd"
      },
      "outputs": [],
      "source": [
        "t = (1,2,3)\n",
        "# tuple są listami, ale są niezmienne - niekiedy przydają się w analizie danych"
      ]
    },
    {
      "cell_type": "code",
      "execution_count": null,
      "metadata": {
        "id": "l4FiQ3eGDtwd"
      },
      "outputs": [],
      "source": [
        "t"
      ]
    },
    {
      "cell_type": "code",
      "execution_count": null,
      "metadata": {
        "id": "Os0ecozNDtwd"
      },
      "outputs": [],
      "source": [
        "t[0]\n",
        "# możemy wybrać jeden z elementów zbioru"
      ]
    },
    {
      "cell_type": "code",
      "execution_count": null,
      "metadata": {
        "id": "e0lvQll6Dtwd"
      },
      "outputs": [],
      "source": [
        "# t[0] = '1' \n",
        "# w tuple nie da się zmieniać danych, to nie zadziała i zwróci błąd"
      ]
    },
    {
      "cell_type": "code",
      "execution_count": null,
      "metadata": {
        "id": "Ftl7aMQSDtwd"
      },
      "outputs": [],
      "source": [
        "t = ('a', 'a', 'b', 'a1', 'a')"
      ]
    },
    {
      "cell_type": "code",
      "execution_count": null,
      "metadata": {
        "id": "LEqSXgxiDtwe"
      },
      "outputs": [],
      "source": [
        "t.count('a') \n",
        "# to funkcja wbudowana w tuples, możemy policzyć występowanie"
      ]
    },
    {
      "cell_type": "code",
      "execution_count": null,
      "metadata": {
        "id": "ir1S9E9fDtwe"
      },
      "outputs": [],
      "source": [
        "t.index('b')\n",
        "# możemy określić indeks, który towarzyszy danemu rozwiązaniu "
      ]
    },
    {
      "cell_type": "markdown",
      "metadata": {
        "id": "xOEBb0GNDtwe"
      },
      "source": [
        "### 6. Sety\n",
        "#### 🇬🇧 Sets"
      ]
    },
    {
      "cell_type": "code",
      "execution_count": null,
      "metadata": {
        "id": "R0CiTtYvDtwe"
      },
      "outputs": [],
      "source": [
        "set1 = {1,2,3} \n",
        "# istotą setów są unikalne elementy, nie są uporządkowane\n",
        "set1"
      ]
    },
    {
      "cell_type": "code",
      "execution_count": null,
      "metadata": {
        "id": "S3KRz6dYDtwe"
      },
      "outputs": [],
      "source": [
        "{1,2,3,1,2,1,2,3,3,3,3,2,2,2,1,1,2} \n",
        "# wyświetlane są tylko unikalne liczby, powtarzające się są ignorowane"
      ]
    },
    {
      "cell_type": "code",
      "execution_count": null,
      "metadata": {
        "id": "zDtnkXO7Dtwe"
      },
      "outputs": [],
      "source": [
        "set1.add(4)\n",
        "# możemy dodać kolejny element do listy"
      ]
    },
    {
      "cell_type": "code",
      "execution_count": null,
      "metadata": {
        "id": "zeBKmV5IDtwe"
      },
      "outputs": [],
      "source": [
        "set1"
      ]
    },
    {
      "cell_type": "markdown",
      "metadata": {
        "id": "ww4B-Kb1Dtwe"
      },
      "source": [
        "### 📚 Zadanie 1.\n",
        "##### Sprawdź jakie funkcje można znaleźć w Python - https://www.w3schools.com/python/module_math.asp Stwórz zmienną, którą nazwiesz \"x\", nadaj jej wartość \"5.29\". Używając modułu math policz cosinus z tej liczby.\n",
        "##### 🇬🇧 Check Python math module documentation - https://www.w3schools.com/python/module_math.asp Create \"x\" variable with value \"5.29\". Using math module return the cosine of a number."
      ]
    },
    {
      "cell_type": "code",
      "execution_count": 17,
      "metadata": {
        "colab": {
          "base_uri": "https://localhost:8080/"
        },
        "id": "KxmvmgvGDtwf",
        "outputId": "e9b8520b-0e3b-476b-c0bf-dfa3e16a2748"
      },
      "outputs": [
        {
          "output_type": "stream",
          "name": "stdout",
          "text": [
            "0.5460240819816483\n"
          ]
        }
      ],
      "source": [
        "import math\n",
        "x = 5.29\n",
        "x_cos = math.cos(x)\n",
        "print(x_cos)"
      ]
    },
    {
      "cell_type": "markdown",
      "metadata": {
        "id": "OYPusYiZDtwf"
      },
      "source": [
        "### 📚 Zadanie 2.\n",
        "##### Stwórz zmienną, którą nazwiesz \"x\", nadaj jej wartość \"Jeden\", zmienną \"y\" z wartością \"komputer\" oraz zmienną \"z\" z wartością \"Apple\". Stwórz zmienną a, która będzie zawierała wszystkie zmienne (x, y, z), łącząc je w jedno zdanie.\n",
        "##### 🇬🇧 Create \"x\" variable with value \"One\"; \"y\" variable with value \"Apple\"; variable \"z\" with value \"computer\". Create and print \"a\" variable with all variables (x, y, z)."
      ]
    },
    {
      "cell_type": "code",
      "execution_count": 26,
      "metadata": {
        "colab": {
          "base_uri": "https://localhost:8080/"
        },
        "id": "ztk9xDlJDtwf",
        "outputId": "56aba641-2ed0-4123-e8e3-7dfac3ecdd36"
      },
      "outputs": [
        {
          "output_type": "stream",
          "name": "stdout",
          "text": [
            "('Jeden', 'komputer', 'Apple')\n"
          ]
        }
      ],
      "source": [
        "x = \"Jeden\"\n",
        "y = \"komputer\"\n",
        "z = \"Apple\"\n",
        "a = (x,y,z)\n",
        "print(a)"
      ]
    },
    {
      "cell_type": "markdown",
      "metadata": {
        "id": "gKsUu6RsDtwf"
      },
      "source": [
        "### 📚 Zadanie 3.\n",
        "##### Stwórz listę, którą nazwiesz \"x\". Lista ta powinna zawierać pięć elementów (\"Windows\", \"macOS\", \"Linux\", \"iOS\", \"Android\"). Wyświetl tylko drugi element z listy. Usuń z listy ostatni element. Dodaj do listy kolejny element (\"Ubuntu\"). Uporządkuj listę zgodnie z porządkiem alfabetycznym.\n",
        "##### 🇬🇧 Create  new list (\"x\") with five elements (\"Windows\", \"macOS\", \"Linux\", \"iOS\", \"Android\"). Print only the last element. Delete the last element. Add new element to the list (\"Ubuntu\"). Sort the list."
      ]
    },
    {
      "cell_type": "code",
      "execution_count": 27,
      "metadata": {
        "colab": {
          "base_uri": "https://localhost:8080/"
        },
        "id": "GKrXpwbGDtwf",
        "outputId": "60d02d9c-53ec-4f82-b30d-aee4bbdf894e"
      },
      "outputs": [
        {
          "output_type": "stream",
          "name": "stdout",
          "text": [
            "macOS\n",
            "['Linux', 'Ubuntu', 'Windows', 'iOS', 'macOS']\n"
          ]
        }
      ],
      "source": [
        "x =  [\"Windows\", \"macOS\", \"Linux\", \"iOS\", \"Android\"]\n",
        "print(x[1])\n",
        "x.pop(-1)\n",
        "x.append(\"Ubuntu\")\n",
        "x.sort()\n",
        "print(x)"
      ]
    },
    {
      "cell_type": "markdown",
      "metadata": {
        "id": "kwk-UQN2Dtwf"
      },
      "source": [
        "### 📚 Zadanie 4.\n",
        "##### Stwórz słownik, którą nazwiesz \"x\". Słownik ten ta powinien zawierać sześć imion i nazwisk (Danuta Brzezińska, Krystyna Kamińska, Teresa Maciejewska, Aleksy Szczepański, Karol Andrzejewski, Kacper Kaźmierczak). Wprowadź informację o ocenach uzyskanych przez powyższe osoby. Danuta Brzezińska oraz Krystyna Kamińska - 5; Teresa Maciejewska - 4, Aleksy Szczepański oraz Karol Andrzejewski - 4.5. W przypadku Kacpra Kaźmierczaka wprowadź dwie oceny - 5 oraz 4.5.\n",
        "##### 🇬🇧 Create new dictionary (\"x\"). Dictionary should consist of several names and surnames (Danuta Brzezińska, Krystyna Kamińska, Teresa Maciejewska, Aleksy Szczepański, Karol Andrzejewski, Kacper Kaźmierczak). Enter information about the grades. Danuta Brzezińska and Krystyna Kamińska - 5; Teresa Maciejewska - 4, Aleksy Szczepański and Karol Andrzejewski - 4.5. In case of Kacper Kaźmierczak enter two grades - 5 oraz 4.5."
      ]
    },
    {
      "cell_type": "code",
      "execution_count": 28,
      "metadata": {
        "colab": {
          "base_uri": "https://localhost:8080/"
        },
        "id": "8oRLpNjeDtwf",
        "outputId": "a7b7855e-1d14-4811-8058-b671d501e41a"
      },
      "outputs": [
        {
          "output_type": "stream",
          "name": "stdout",
          "text": [
            "{'Danuta Brzezińska': 5, 'Krystyna Kamińska': 5, 'Teresa Maciejewska': 4, 'Aleksy Szczepański': 4.5, 'Karol Andrzejewski': 4.5, 'Kacper Kaźmierczak': [5, 4.5]}\n"
          ]
        }
      ],
      "source": [
        "x = {\n",
        "    \"Danuta Brzezińska\": 5,\n",
        "    \"Krystyna Kamińska\": 5,\n",
        "    \"Teresa Maciejewska\": 4,\n",
        "    \"Aleksy Szczepański\": 4.5,\n",
        "    \"Karol Andrzejewski\": 4.5,\n",
        "    \"Kacper Kaźmierczak\": [5, 4.5]\n",
        "}\n",
        "print(x)"
      ]
    }
  ],
  "metadata": {
    "kernelspec": {
      "display_name": "Python 3 (ipykernel)",
      "language": "python",
      "name": "python3"
    },
    "language_info": {
      "codemirror_mode": {
        "name": "ipython",
        "version": 3
      },
      "file_extension": ".py",
      "mimetype": "text/x-python",
      "name": "python",
      "nbconvert_exporter": "python",
      "pygments_lexer": "ipython3",
      "version": "3.8.12"
    },
    "colab": {
      "name": "Introduction to Python 3.10.ipynb",
      "provenance": [],
      "collapsed_sections": [
        "7jiorMFmDtwc",
        "xOEBb0GNDtwe"
      ]
    }
  },
  "nbformat": 4,
  "nbformat_minor": 0
}