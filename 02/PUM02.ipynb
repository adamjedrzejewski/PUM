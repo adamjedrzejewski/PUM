{
 "cells": [
  {
   "cell_type": "markdown",
   "id": "32e5ab1c",
   "metadata": {},
   "source": [
    "# PUM CLASS 3"
   ]
  },
  {
   "cell_type": "markdown",
   "id": "d528ab69",
   "metadata": {},
   "source": [
    "Adam Jędrzejewski s20335"
   ]
  },
  {
   "cell_type": "markdown",
   "id": "705bb1a2",
   "metadata": {},
   "source": [
    "Import libs"
   ]
  },
  {
   "cell_type": "code",
   "execution_count": 155,
   "id": "c2c4d02c",
   "metadata": {},
   "outputs": [],
   "source": [
    "import pandas as pd\n",
    "import numpy as np\n",
    "import os\n",
    "\n",
    "import matplotlib.pyplot as plt\n",
    "import seaborn as sns\n",
    "# tych bibliotek używamy do wizualizacji naszych danych\n",
    "\n",
    "import cufflinks as cf\n",
    "# użyjemy jej do interaktywnego podlgądu danych\n",
    "\n",
    "from sklearn.linear_model import LogisticRegression\n",
    "from sklearn.model_selection import train_test_split\n",
    "# przyda nam się do stworzenia zbioru treningowego oraz testowego oraz zaimportowania modelu regresji\n",
    "\n",
    "from sklearn.metrics import classification_report\n",
    "from sklearn.metrics import confusion_matrix\n",
    "# wykorzystamy do przedstawienia informacji składających się na jakość naszego modelu\n",
    "\n",
    "%matplotlib inline"
   ]
  },
  {
   "cell_type": "markdown",
   "id": "1a8b119a",
   "metadata": {},
   "source": [
    "## 📚 Zadanie 1.\n",
    "**Załaduj ponownie zbiór danych (DSP_6.csv), ale nie wykonuj jeszcze operacji na brakujących wartościach. Poszukaj innego sposobu wyświetlenia informacji o brakujących wartościach - wyświetl liczbę brakujących danych.**\n",
    "\n",
    "**Reload dataset (DSP_6.csv) but do not operate on missing values yet. Look for another way to display information about missing values - display the number of missing data.**\n"
   ]
  },
  {
   "cell_type": "code",
   "execution_count": 156,
   "id": "e58be440",
   "metadata": {},
   "outputs": [],
   "source": [
    "train = pd.read_csv(\"DSP_6.csv\")"
   ]
  },
  {
   "cell_type": "markdown",
   "id": "91436d0e",
   "metadata": {},
   "source": [
    "Are there missing values?"
   ]
  },
  {
   "cell_type": "code",
   "execution_count": 157,
   "id": "8b62d28d",
   "metadata": {},
   "outputs": [
    {
     "data": {
      "text/plain": [
       "PassengerId    False\n",
       "Survived       False\n",
       "Pclass         False\n",
       "Name           False\n",
       "Sex            False\n",
       "Age             True\n",
       "SibSp          False\n",
       "Parch          False\n",
       "Ticket         False\n",
       "Fare           False\n",
       "Cabin           True\n",
       "Embarked        True\n",
       "dtype: bool"
      ]
     },
     "execution_count": 157,
     "metadata": {},
     "output_type": "execute_result"
    }
   ],
   "source": [
    "train.isnull().any()"
   ]
  },
  {
   "cell_type": "markdown",
   "id": "1212d895",
   "metadata": {},
   "source": [
    "Number of missing values per column."
   ]
  },
  {
   "cell_type": "code",
   "execution_count": 158,
   "id": "6a7abd36",
   "metadata": {},
   "outputs": [
    {
     "data": {
      "text/plain": [
       "PassengerId      0\n",
       "Survived         0\n",
       "Pclass           0\n",
       "Name             0\n",
       "Sex              0\n",
       "Age            177\n",
       "SibSp            0\n",
       "Parch            0\n",
       "Ticket           0\n",
       "Fare             0\n",
       "Cabin          687\n",
       "Embarked         2\n",
       "dtype: int64"
      ]
     },
     "execution_count": 158,
     "metadata": {},
     "output_type": "execute_result"
    }
   ],
   "source": [
    "train.isnull().sum()"
   ]
  },
  {
   "cell_type": "markdown",
   "id": "638554ce",
   "metadata": {},
   "source": [
    "Total number of missing values."
   ]
  },
  {
   "cell_type": "code",
   "execution_count": 159,
   "id": "d08b4710",
   "metadata": {},
   "outputs": [
    {
     "data": {
      "text/plain": [
       "866"
      ]
     },
     "execution_count": 159,
     "metadata": {},
     "output_type": "execute_result"
    }
   ],
   "source": [
    "train.isnull().sum().sum()"
   ]
  },
  {
   "cell_type": "markdown",
   "id": "8bf3e653",
   "metadata": {},
   "source": [
    "## 📚 Zadanie 2.\n",
    "**Dodaj kilka kolejnych wykresów w celu dalszej eksploracji danych. Stwórz wykres, który będzie pokazywać informację dotyczącą liczby członków rodziny na pokładzie. Stwórz wykres, który będzie pokazywać informację dotyczącą opłaty, która została uiszczona przez pasażerów. Z uwagi na to, że dane te zawierają przypadki odstające zmień jego wielkość za pomocą parametru figsize.**\n",
    "\n",
    "**Add more charts for further data exploration. Create a graph that will show information about the number of family members. Create a graph that will show information about the fare that has been paid by passengers. Since this data contains outliers, change its size using the figsize parameter.**\n"
   ]
  },
  {
   "cell_type": "markdown",
   "id": "35142fcd",
   "metadata": {},
   "source": [
    "We are not droping missing values for this chart because age and cabin are not relevant to number of family members onboard. "
   ]
  },
  {
   "cell_type": "code",
   "execution_count": 160,
   "id": "a852d5ac",
   "metadata": {},
   "outputs": [],
   "source": [
    "train_family_members = train.copy()\n",
    "train_family_members['FamilyMembers'] = train_family_members['SibSp'] + train_family_members['Parch']"
   ]
  },
  {
   "cell_type": "markdown",
   "id": "cc30734d",
   "metadata": {},
   "source": [
    "Number of family memebers onboard."
   ]
  },
  {
   "cell_type": "code",
   "execution_count": 161,
   "id": "261cbe9c",
   "metadata": {},
   "outputs": [
    {
     "data": {
      "text/plain": [
       "<AxesSubplot:xlabel='FamilyMembers', ylabel='count'>"
      ]
     },
     "execution_count": 161,
     "metadata": {},
     "output_type": "execute_result"
    },
    {
     "data": {
      "image/png": "[encoded data removed]",
      "text/plain": [
       "<Figure size 432x288 with 1 Axes>"
      ]
     },
     "metadata": {},
     "output_type": "display_data"
    }
   ],
   "source": [
    "sns.set_style('whitegrid')\n",
    "sns.countplot(x='FamilyMembers',data=train_family_members)"
   ]
  },
  {
   "cell_type": "markdown",
   "id": "a9b9f66c",
   "metadata": {},
   "source": [
    "Fare paid by passegers."
   ]
  },
  {
   "cell_type": "code",
   "execution_count": 162,
   "id": "5edc2864",
   "metadata": {},
   "outputs": [
    {
     "data": {
      "text/plain": [
       "<AxesSubplot:ylabel='Fare'>"
      ]
     },
     "execution_count": 162,
     "metadata": {},
     "output_type": "execute_result"
    },
    {
     "data": {
      "image/png": "[encoded data removed]",
      "text/plain": [
       "<Figure size 360x720 with 1 Axes>"
      ]
     },
     "metadata": {},
     "output_type": "display_data"
    }
   ],
   "source": [
    "plt.figure(figsize=(5, 10))\n",
    "sns.boxplot(y='Fare',data=train)"
   ]
  },
  {
   "cell_type": "markdown",
   "id": "d0120cfa",
   "metadata": {},
   "source": [
    "## 📚 Zadanie 3.\n",
    "**Spróbuj wytrenować nowy model regresji logistycznej dla tych samych danych. Tym razem zrób wcześniej błąd i nie dokonuj transformacji zmiennych (po prostu załaduj data frame i spróbuj je zastosować do modelu). Jaki błąd otrzymujesz? Załaduj ponownie model, tym razem poprawnie, ale wytrenuj model dwukrotnie modyfikując wybrane hiperparametry (test_size, random_state lub max_iter). Czy coś się zmienia w parametrach modelu?**\n",
    "\n",
    "**Train a new logistic regression model for the same data. This time, make a mistake and do not transform the variables (just load the data frame, and try to apply them to the model). What error do you see? Reload the model, this time correctly transform the variables, but train the model twice by modifying the selected hyperparameters (test_size, random_state or max_iter). Does anything change in the parameters of the model?**"
   ]
  },
  {
   "cell_type": "code",
   "execution_count": 163,
   "id": "c8ddda38",
   "metadata": {},
   "outputs": [],
   "source": [
    "df = pd.read_csv(\"DSP_6.csv\")"
   ]
  },
  {
   "cell_type": "code",
   "execution_count": 164,
   "id": "0b358417",
   "metadata": {},
   "outputs": [],
   "source": [
    "X = train.drop('Survived', axis=1)\n",
    "y = train['Survived']"
   ]
  },
  {
   "cell_type": "code",
   "execution_count": 165,
   "id": "106fd566",
   "metadata": {},
   "outputs": [],
   "source": [
    "X_train, X_test, y_train, y_test = train_test_split(train.drop('Survived',axis=1), \n",
    "                                                    train['Survived'], test_size=0.10, \n",
    "                                                    random_state=101)"
   ]
  },
  {
   "cell_type": "markdown",
   "id": "8711fbc3",
   "metadata": {},
   "source": [
    "**We get type error**"
   ]
  },
  {
   "cell_type": "code",
   "execution_count": 166,
   "id": "13821fb9",
   "metadata": {},
   "outputs": [],
   "source": [
    "# logmodel = LogisticRegression(max_iter = 500)\n",
    "# logmodel.fit(X_train,y_train)\n",
    "# predictions = logmodel.predict(X_test)"
   ]
  },
  {
   "cell_type": "markdown",
   "id": "0cf2e39b",
   "metadata": {},
   "source": [
    "**ValueError: could not convert string to float: 'Flynn, Mr. John'**"
   ]
  },
  {
   "cell_type": "markdown",
   "id": "78ee00cb",
   "metadata": {},
   "source": [
    "Let's transform the data."
   ]
  },
  {
   "cell_type": "code",
   "execution_count": 167,
   "id": "4f63232c",
   "metadata": {},
   "outputs": [],
   "source": [
    "df = df.drop(['Cabin'], axis=1)"
   ]
  },
  {
   "cell_type": "code",
   "execution_count": 168,
   "id": "f1f92f96",
   "metadata": {},
   "outputs": [],
   "source": [
    "sex = pd.get_dummies(df['Sex'],drop_first=True)\n",
    "embark = pd.get_dummies(df['Embarked'],drop_first=True)"
   ]
  },
  {
   "cell_type": "code",
   "execution_count": 169,
   "id": "f44e1455",
   "metadata": {},
   "outputs": [],
   "source": [
    "df = pd.concat([df, sex, embark], axis = 1)"
   ]
  },
  {
   "cell_type": "code",
   "execution_count": 170,
   "id": "f53ba1e2",
   "metadata": {},
   "outputs": [],
   "source": [
    "df.drop(['Sex','Embarked','Name','Ticket', 'PassengerId'],axis=1,inplace=True)"
   ]
  },
  {
   "cell_type": "code",
   "execution_count": 171,
   "id": "88c20a76",
   "metadata": {},
   "outputs": [],
   "source": [
    "df = df.fillna(df.mean())"
   ]
  },
  {
   "cell_type": "code",
   "execution_count": 172,
   "id": "744b936f",
   "metadata": {},
   "outputs": [
    {
     "data": {
      "text/html": [
       "<div>\n",
       "<style scoped>\n",
       "    .dataframe tbody tr th:only-of-type {\n",
       "        vertical-align: middle;\n",
       "    }\n",
       "\n",
       "    .dataframe tbody tr th {\n",
       "        vertical-align: top;\n",
       "    }\n",
       "\n",
       "    .dataframe thead th {\n",
       "        text-align: right;\n",
       "    }\n",
       "</style>\n",
       "<table border=\"1\" class=\"dataframe\">\n",
       "  <thead>\n",
       "    <tr style=\"text-align: right;\">\n",
       "      <th></th>\n",
       "      <th>Survived</th>\n",
       "      <th>Pclass</th>\n",
       "      <th>Age</th>\n",
       "      <th>SibSp</th>\n",
       "      <th>Parch</th>\n",
       "      <th>Fare</th>\n",
       "      <th>male</th>\n",
       "      <th>Q</th>\n",
       "      <th>S</th>\n",
       "    </tr>\n",
       "  </thead>\n",
       "  <tbody>\n",
       "    <tr>\n",
       "      <th>0</th>\n",
       "      <td>0</td>\n",
       "      <td>3</td>\n",
       "      <td>22.0</td>\n",
       "      <td>1</td>\n",
       "      <td>0</td>\n",
       "      <td>7.2500</td>\n",
       "      <td>1</td>\n",
       "      <td>0</td>\n",
       "      <td>1</td>\n",
       "    </tr>\n",
       "    <tr>\n",
       "      <th>1</th>\n",
       "      <td>1</td>\n",
       "      <td>1</td>\n",
       "      <td>38.0</td>\n",
       "      <td>1</td>\n",
       "      <td>0</td>\n",
       "      <td>71.2833</td>\n",
       "      <td>0</td>\n",
       "      <td>0</td>\n",
       "      <td>0</td>\n",
       "    </tr>\n",
       "    <tr>\n",
       "      <th>2</th>\n",
       "      <td>1</td>\n",
       "      <td>3</td>\n",
       "      <td>26.0</td>\n",
       "      <td>0</td>\n",
       "      <td>0</td>\n",
       "      <td>7.9250</td>\n",
       "      <td>0</td>\n",
       "      <td>0</td>\n",
       "      <td>1</td>\n",
       "    </tr>\n",
       "    <tr>\n",
       "      <th>3</th>\n",
       "      <td>1</td>\n",
       "      <td>1</td>\n",
       "      <td>35.0</td>\n",
       "      <td>1</td>\n",
       "      <td>0</td>\n",
       "      <td>53.1000</td>\n",
       "      <td>0</td>\n",
       "      <td>0</td>\n",
       "      <td>1</td>\n",
       "    </tr>\n",
       "    <tr>\n",
       "      <th>4</th>\n",
       "      <td>0</td>\n",
       "      <td>3</td>\n",
       "      <td>35.0</td>\n",
       "      <td>0</td>\n",
       "      <td>0</td>\n",
       "      <td>8.0500</td>\n",
       "      <td>1</td>\n",
       "      <td>0</td>\n",
       "      <td>1</td>\n",
       "    </tr>\n",
       "  </tbody>\n",
       "</table>\n",
       "</div>"
      ],
      "text/plain": [
       "   Survived  Pclass   Age  SibSp  Parch     Fare  male  Q  S\n",
       "0         0       3  22.0      1      0   7.2500     1  0  1\n",
       "1         1       1  38.0      1      0  71.2833     0  0  0\n",
       "2         1       3  26.0      0      0   7.9250     0  0  1\n",
       "3         1       1  35.0      1      0  53.1000     0  0  1\n",
       "4         0       3  35.0      0      0   8.0500     1  0  1"
      ]
     },
     "execution_count": 172,
     "metadata": {},
     "output_type": "execute_result"
    }
   ],
   "source": [
    "df.head()"
   ]
  },
  {
   "cell_type": "code",
   "execution_count": 173,
   "id": "bb4870dd",
   "metadata": {},
   "outputs": [],
   "source": [
    "X = df.drop('Survived', axis=1)\n",
    "y = df['Survived']"
   ]
  },
  {
   "cell_type": "code",
   "execution_count": 174,
   "id": "91450f71",
   "metadata": {},
   "outputs": [],
   "source": [
    "X_df, X_test, y_df, y_test = train_test_split(df.drop('Survived',axis=1), \n",
    "                                                    df['Survived'], test_size=0.15, \n",
    "                                                    random_state=32)"
   ]
  },
  {
   "cell_type": "code",
   "execution_count": 175,
   "id": "cc33957b",
   "metadata": {},
   "outputs": [],
   "source": [
    "logmodel = LogisticRegression(max_iter = 1000)\n",
    "logmodel.fit(X_df,y_df)\n",
    "predictions = logmodel.predict(X_test)"
   ]
  },
  {
   "cell_type": "code",
   "execution_count": 176,
   "id": "7caf91ca",
   "metadata": {},
   "outputs": [
    {
     "name": "stdout",
     "output_type": "stream",
     "text": [
      "              precision    recall  f1-score   support\n",
      "\n",
      "           0       0.82      0.85      0.83        85\n",
      "           1       0.72      0.67      0.69        49\n",
      "\n",
      "    accuracy                           0.78       134\n",
      "   macro avg       0.77      0.76      0.76       134\n",
      "weighted avg       0.78      0.78      0.78       134\n",
      "\n"
     ]
    }
   ],
   "source": [
    "print(classification_report(y_test,predictions))"
   ]
  },
  {
   "cell_type": "code",
   "execution_count": 177,
   "id": "e7264523",
   "metadata": {},
   "outputs": [
    {
     "data": {
      "text/plain": [
       "array([[72, 13],\n",
       "       [16, 33]], dtype=int64)"
      ]
     },
     "execution_count": 177,
     "metadata": {},
     "output_type": "execute_result"
    }
   ],
   "source": [
    "confusion_matrix(y_test, predictions)"
   ]
  },
  {
   "cell_type": "markdown",
   "id": "15b97de6",
   "metadata": {},
   "source": [
    "## 📚 Zadanie 4.\n",
    "**Załaduj nowy zbiór danych DSP_2.csv. Wytrenuj nowy model regresji logistycznej w celu określenia czy u danej osoby wystąpi choroba serca (zmienna HeartDisease). Do wytrenowania modelu użyj wszystkich innych zmiennych, które występują w tym arkuszu. Czy model cechuje się dobrymi parametrami? Jeżeli tak, to dlaczego? Czy może zostać wykorzystany w praktyce?**\n",
    "\n",
    "**Load the new dataset DSP_2.csv. Train a new logistic regression model to determine if somoeone will develop heart disease (the HeartDisease variable). Use all other variables in this dataset to train the model. Could this model be considered as good? Why?**"
   ]
  },
  {
   "cell_type": "code",
   "execution_count": 178,
   "id": "5f81204b",
   "metadata": {},
   "outputs": [],
   "source": [
    "df_2 = pd.read_csv(\"DSP_2.csv\")"
   ]
  },
  {
   "cell_type": "code",
   "execution_count": 179,
   "id": "102b992b",
   "metadata": {},
   "outputs": [
    {
     "data": {
      "text/html": [
       "<div>\n",
       "<style scoped>\n",
       "    .dataframe tbody tr th:only-of-type {\n",
       "        vertical-align: middle;\n",
       "    }\n",
       "\n",
       "    .dataframe tbody tr th {\n",
       "        vertical-align: top;\n",
       "    }\n",
       "\n",
       "    .dataframe thead th {\n",
       "        text-align: right;\n",
       "    }\n",
       "</style>\n",
       "<table border=\"1\" class=\"dataframe\">\n",
       "  <thead>\n",
       "    <tr style=\"text-align: right;\">\n",
       "      <th></th>\n",
       "      <th>Age</th>\n",
       "      <th>Sex</th>\n",
       "      <th>ChestPainType</th>\n",
       "      <th>RestingBP</th>\n",
       "      <th>Cholesterol</th>\n",
       "      <th>FastingBS</th>\n",
       "      <th>RestingECG</th>\n",
       "      <th>MaxHR</th>\n",
       "      <th>ExerciseAngina</th>\n",
       "      <th>Oldpeak</th>\n",
       "      <th>ST_Slope</th>\n",
       "      <th>HeartDisease</th>\n",
       "    </tr>\n",
       "  </thead>\n",
       "  <tbody>\n",
       "    <tr>\n",
       "      <th>0</th>\n",
       "      <td>40</td>\n",
       "      <td>M</td>\n",
       "      <td>ATA</td>\n",
       "      <td>140</td>\n",
       "      <td>289</td>\n",
       "      <td>0</td>\n",
       "      <td>Normal</td>\n",
       "      <td>172</td>\n",
       "      <td>N</td>\n",
       "      <td>0.0</td>\n",
       "      <td>Up</td>\n",
       "      <td>0</td>\n",
       "    </tr>\n",
       "    <tr>\n",
       "      <th>1</th>\n",
       "      <td>49</td>\n",
       "      <td>F</td>\n",
       "      <td>NAP</td>\n",
       "      <td>160</td>\n",
       "      <td>180</td>\n",
       "      <td>0</td>\n",
       "      <td>Normal</td>\n",
       "      <td>156</td>\n",
       "      <td>N</td>\n",
       "      <td>1.0</td>\n",
       "      <td>Flat</td>\n",
       "      <td>1</td>\n",
       "    </tr>\n",
       "    <tr>\n",
       "      <th>2</th>\n",
       "      <td>37</td>\n",
       "      <td>M</td>\n",
       "      <td>ATA</td>\n",
       "      <td>130</td>\n",
       "      <td>283</td>\n",
       "      <td>0</td>\n",
       "      <td>ST</td>\n",
       "      <td>98</td>\n",
       "      <td>N</td>\n",
       "      <td>0.0</td>\n",
       "      <td>Up</td>\n",
       "      <td>0</td>\n",
       "    </tr>\n",
       "    <tr>\n",
       "      <th>3</th>\n",
       "      <td>48</td>\n",
       "      <td>F</td>\n",
       "      <td>ASY</td>\n",
       "      <td>138</td>\n",
       "      <td>214</td>\n",
       "      <td>0</td>\n",
       "      <td>Normal</td>\n",
       "      <td>108</td>\n",
       "      <td>Y</td>\n",
       "      <td>1.5</td>\n",
       "      <td>Flat</td>\n",
       "      <td>1</td>\n",
       "    </tr>\n",
       "    <tr>\n",
       "      <th>4</th>\n",
       "      <td>54</td>\n",
       "      <td>M</td>\n",
       "      <td>NAP</td>\n",
       "      <td>150</td>\n",
       "      <td>195</td>\n",
       "      <td>0</td>\n",
       "      <td>Normal</td>\n",
       "      <td>122</td>\n",
       "      <td>N</td>\n",
       "      <td>0.0</td>\n",
       "      <td>Up</td>\n",
       "      <td>0</td>\n",
       "    </tr>\n",
       "  </tbody>\n",
       "</table>\n",
       "</div>"
      ],
      "text/plain": [
       "   Age Sex ChestPainType  RestingBP  Cholesterol  FastingBS RestingECG  MaxHR  \\\n",
       "0   40   M           ATA        140          289          0     Normal    172   \n",
       "1   49   F           NAP        160          180          0     Normal    156   \n",
       "2   37   M           ATA        130          283          0         ST     98   \n",
       "3   48   F           ASY        138          214          0     Normal    108   \n",
       "4   54   M           NAP        150          195          0     Normal    122   \n",
       "\n",
       "  ExerciseAngina  Oldpeak ST_Slope  HeartDisease  \n",
       "0              N      0.0       Up             0  \n",
       "1              N      1.0     Flat             1  \n",
       "2              N      0.0       Up             0  \n",
       "3              Y      1.5     Flat             1  \n",
       "4              N      0.0       Up             0  "
      ]
     },
     "execution_count": 179,
     "metadata": {},
     "output_type": "execute_result"
    }
   ],
   "source": [
    "df_2.head()"
   ]
  },
  {
   "cell_type": "code",
   "execution_count": 180,
   "id": "aa5bda14",
   "metadata": {},
   "outputs": [
    {
     "data": {
      "text/plain": [
       "Age               False\n",
       "Sex               False\n",
       "ChestPainType     False\n",
       "RestingBP         False\n",
       "Cholesterol       False\n",
       "FastingBS         False\n",
       "RestingECG        False\n",
       "MaxHR             False\n",
       "ExerciseAngina    False\n",
       "Oldpeak           False\n",
       "ST_Slope          False\n",
       "HeartDisease      False\n",
       "dtype: bool"
      ]
     },
     "execution_count": 180,
     "metadata": {},
     "output_type": "execute_result"
    }
   ],
   "source": [
    "df_2.isnull().any()"
   ]
  },
  {
   "cell_type": "code",
   "execution_count": 181,
   "id": "5ea5ee74",
   "metadata": {},
   "outputs": [],
   "source": [
    "sex = pd.get_dummies(df_2['Sex'],drop_first=True)\n",
    "chest_pain_type = pd.get_dummies(df_2['ChestPainType'],drop_first=True)\n",
    "resting_ecg = pd.get_dummies(df_2['RestingECG'],drop_first=True)\n",
    "exercise_angina = pd.get_dummies(df_2['ExerciseAngina'],drop_first=True)\n",
    "st_slope = pd.get_dummies(df_2['ST_Slope'],drop_first=True)"
   ]
  },
  {
   "cell_type": "code",
   "execution_count": 182,
   "id": "bb2b1b8e",
   "metadata": {},
   "outputs": [],
   "source": [
    "df_2.drop(['Sex', 'ChestPainType', 'RestingECG', 'ExerciseAngina', 'ST_Slope'],axis=1,inplace=True)"
   ]
  },
  {
   "cell_type": "code",
   "execution_count": 183,
   "id": "bed6680e",
   "metadata": {},
   "outputs": [],
   "source": [
    "df_2 = pd.concat([df_2, sex,\n",
    "                  chest_pain_type, resting_ecg,\n",
    "                  exercise_angina, st_slope], axis = 1)"
   ]
  },
  {
   "cell_type": "code",
   "execution_count": 184,
   "id": "f55939ea",
   "metadata": {},
   "outputs": [
    {
     "data": {
      "text/html": [
       "<div>\n",
       "<style scoped>\n",
       "    .dataframe tbody tr th:only-of-type {\n",
       "        vertical-align: middle;\n",
       "    }\n",
       "\n",
       "    .dataframe tbody tr th {\n",
       "        vertical-align: top;\n",
       "    }\n",
       "\n",
       "    .dataframe thead th {\n",
       "        text-align: right;\n",
       "    }\n",
       "</style>\n",
       "<table border=\"1\" class=\"dataframe\">\n",
       "  <thead>\n",
       "    <tr style=\"text-align: right;\">\n",
       "      <th></th>\n",
       "      <th>Age</th>\n",
       "      <th>RestingBP</th>\n",
       "      <th>Cholesterol</th>\n",
       "      <th>FastingBS</th>\n",
       "      <th>MaxHR</th>\n",
       "      <th>Oldpeak</th>\n",
       "      <th>HeartDisease</th>\n",
       "      <th>M</th>\n",
       "      <th>ATA</th>\n",
       "      <th>NAP</th>\n",
       "      <th>TA</th>\n",
       "      <th>Normal</th>\n",
       "      <th>ST</th>\n",
       "      <th>Y</th>\n",
       "      <th>Flat</th>\n",
       "      <th>Up</th>\n",
       "    </tr>\n",
       "  </thead>\n",
       "  <tbody>\n",
       "    <tr>\n",
       "      <th>0</th>\n",
       "      <td>40</td>\n",
       "      <td>140</td>\n",
       "      <td>289</td>\n",
       "      <td>0</td>\n",
       "      <td>172</td>\n",
       "      <td>0.0</td>\n",
       "      <td>0</td>\n",
       "      <td>1</td>\n",
       "      <td>1</td>\n",
       "      <td>0</td>\n",
       "      <td>0</td>\n",
       "      <td>1</td>\n",
       "      <td>0</td>\n",
       "      <td>0</td>\n",
       "      <td>0</td>\n",
       "      <td>1</td>\n",
       "    </tr>\n",
       "    <tr>\n",
       "      <th>1</th>\n",
       "      <td>49</td>\n",
       "      <td>160</td>\n",
       "      <td>180</td>\n",
       "      <td>0</td>\n",
       "      <td>156</td>\n",
       "      <td>1.0</td>\n",
       "      <td>1</td>\n",
       "      <td>0</td>\n",
       "      <td>0</td>\n",
       "      <td>1</td>\n",
       "      <td>0</td>\n",
       "      <td>1</td>\n",
       "      <td>0</td>\n",
       "      <td>0</td>\n",
       "      <td>1</td>\n",
       "      <td>0</td>\n",
       "    </tr>\n",
       "    <tr>\n",
       "      <th>2</th>\n",
       "      <td>37</td>\n",
       "      <td>130</td>\n",
       "      <td>283</td>\n",
       "      <td>0</td>\n",
       "      <td>98</td>\n",
       "      <td>0.0</td>\n",
       "      <td>0</td>\n",
       "      <td>1</td>\n",
       "      <td>1</td>\n",
       "      <td>0</td>\n",
       "      <td>0</td>\n",
       "      <td>0</td>\n",
       "      <td>1</td>\n",
       "      <td>0</td>\n",
       "      <td>0</td>\n",
       "      <td>1</td>\n",
       "    </tr>\n",
       "    <tr>\n",
       "      <th>3</th>\n",
       "      <td>48</td>\n",
       "      <td>138</td>\n",
       "      <td>214</td>\n",
       "      <td>0</td>\n",
       "      <td>108</td>\n",
       "      <td>1.5</td>\n",
       "      <td>1</td>\n",
       "      <td>0</td>\n",
       "      <td>0</td>\n",
       "      <td>0</td>\n",
       "      <td>0</td>\n",
       "      <td>1</td>\n",
       "      <td>0</td>\n",
       "      <td>1</td>\n",
       "      <td>1</td>\n",
       "      <td>0</td>\n",
       "    </tr>\n",
       "    <tr>\n",
       "      <th>4</th>\n",
       "      <td>54</td>\n",
       "      <td>150</td>\n",
       "      <td>195</td>\n",
       "      <td>0</td>\n",
       "      <td>122</td>\n",
       "      <td>0.0</td>\n",
       "      <td>0</td>\n",
       "      <td>1</td>\n",
       "      <td>0</td>\n",
       "      <td>1</td>\n",
       "      <td>0</td>\n",
       "      <td>1</td>\n",
       "      <td>0</td>\n",
       "      <td>0</td>\n",
       "      <td>0</td>\n",
       "      <td>1</td>\n",
       "    </tr>\n",
       "  </tbody>\n",
       "</table>\n",
       "</div>"
      ],
      "text/plain": [
       "   Age  RestingBP  Cholesterol  FastingBS  MaxHR  Oldpeak  HeartDisease  M  \\\n",
       "0   40        140          289          0    172      0.0             0  1   \n",
       "1   49        160          180          0    156      1.0             1  0   \n",
       "2   37        130          283          0     98      0.0             0  1   \n",
       "3   48        138          214          0    108      1.5             1  0   \n",
       "4   54        150          195          0    122      0.0             0  1   \n",
       "\n",
       "   ATA  NAP  TA  Normal  ST  Y  Flat  Up  \n",
       "0    1    0   0       1   0  0     0   1  \n",
       "1    0    1   0       1   0  0     1   0  \n",
       "2    1    0   0       0   1  0     0   1  \n",
       "3    0    0   0       1   0  1     1   0  \n",
       "4    0    1   0       1   0  0     0   1  "
      ]
     },
     "execution_count": 184,
     "metadata": {},
     "output_type": "execute_result"
    }
   ],
   "source": [
    "df_2.head()"
   ]
  },
  {
   "cell_type": "code",
   "execution_count": 185,
   "id": "195d7383",
   "metadata": {},
   "outputs": [],
   "source": [
    "X_df, X_test_df, y_df, y_test_df = train_test_split(df_2.drop('HeartDisease',axis=1), \n",
    "                                                    df_2['HeartDisease'], test_size=0.50, \n",
    "                                                    random_state=101)"
   ]
  },
  {
   "cell_type": "code",
   "execution_count": 186,
   "id": "e0614569",
   "metadata": {
    "scrolled": true
   },
   "outputs": [],
   "source": [
    "logmodel = LogisticRegression(max_iter = 1000)\n",
    "logmodel.fit(X_df,y_df)\n",
    "predictions = logmodel.predict(X_test_df)"
   ]
  },
  {
   "cell_type": "code",
   "execution_count": 187,
   "id": "b8539d5e",
   "metadata": {},
   "outputs": [
    {
     "name": "stdout",
     "output_type": "stream",
     "text": [
      "              precision    recall  f1-score   support\n",
      "\n",
      "           0       0.86      0.81      0.83       210\n",
      "           1       0.85      0.89      0.87       249\n",
      "\n",
      "    accuracy                           0.85       459\n",
      "   macro avg       0.85      0.85      0.85       459\n",
      "weighted avg       0.85      0.85      0.85       459\n",
      "\n"
     ]
    }
   ],
   "source": [
    "print(classification_report(y_test_df,predictions))\n"
   ]
  },
  {
   "cell_type": "code",
   "execution_count": 188,
   "id": "23b3b372",
   "metadata": {},
   "outputs": [
    {
     "data": {
      "text/plain": [
       "array([[170,  40],\n",
       "       [ 28, 221]], dtype=int64)"
      ]
     },
     "execution_count": 188,
     "metadata": {},
     "output_type": "execute_result"
    }
   ],
   "source": [
    "confusion_matrix(y_test_df, predictions)"
   ]
  },
  {
   "cell_type": "markdown",
   "id": "9a510dda",
   "metadata": {},
   "source": [
    "**With small numbers of iterations model fails to converege.**"
   ]
  }
 ],
 "metadata": {
  "kernelspec": {
   "display_name": "Python 3 (ipykernel)",
   "language": "python",
   "name": "python3"
  },
  "language_info": {
   "codemirror_mode": {
    "name": "ipython",
    "version": 3
   },
   "file_extension": ".py",
   "mimetype": "text/x-python",
   "name": "python",
   "nbconvert_exporter": "python",
   "pygments_lexer": "ipython3",
   "version": "3.9.7"
  }
 },
 "nbformat": 4,
 "nbformat_minor": 5
}
